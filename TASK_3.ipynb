{
  "nbformat": 4,
  "nbformat_minor": 0,
  "metadata": {
    "colab": {
      "provenance": [],
      "authorship_tag": "ABX9TyM2dEwBP/GYZZo3++BFmOJ5",
      "include_colab_link": true
    },
    "kernelspec": {
      "name": "python3",
      "display_name": "Python 3"
    },
    "language_info": {
      "name": "python"
    }
  },
  "cells": [
    {
      "cell_type": "markdown",
      "metadata": {
        "id": "view-in-github",
        "colab_type": "text"
      },
      "source": [
        "<a href=\"https://colab.research.google.com/github/anjithababuraj/CognoRise-Infotech/blob/main/TASK_3.ipynb\" target=\"_parent\"><img src=\"https://colab.research.google.com/assets/colab-badge.svg\" alt=\"Open In Colab\"/></a>"
      ]
    },
    {
      "cell_type": "markdown",
      "source": [
        "# **TASK 3 - SPAM EMAIL DETECTION**"
      ],
      "metadata": {
        "id": "JusF1okPmtxv"
      }
    },
    {
      "cell_type": "markdown",
      "source": [
        "model to classify emails as spam or ham based on their\n",
        "content"
      ],
      "metadata": {
        "id": "b1F6QzdmoGPs"
      }
    },
    {
      "cell_type": "markdown",
      "source": [
        "![Screenshot (118).png](data:image/png;base64,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)"
      ],
      "metadata": {
        "id": "mPSmr3iUmXRZ"
      }
    },
    {
      "cell_type": "code",
      "execution_count": null,
      "metadata": {
        "id": "1eKOWnedLvmp"
      },
      "outputs": [],
      "source": [
        "#import required libraries\n",
        "import numpy as np\n",
        "import pandas as pd\n",
        "import matplotlib.pyplot as plt\n",
        "import seaborn as sns\n",
        "import nltk\n",
        "import re"
      ]
    },
    {
      "cell_type": "code",
      "source": [
        "#data loading\n",
        "data=pd.read_csv('/content/spam.csv')\n",
        "data"
      ],
      "metadata": {
        "colab": {
          "base_uri": "https://localhost:8080/",
          "height": 423
        },
        "id": "V3iigOy5M2Hj",
        "outputId": "504f6915-383e-44b1-e1d7-d617392ad00e"
      },
      "execution_count": null,
      "outputs": [
        {
          "output_type": "execute_result",
          "data": {
            "text/plain": [
              "     Category                                            Message\n",
              "0         ham  Go until jurong point, crazy.. Available only ...\n",
              "1         ham                      Ok lar... Joking wif u oni...\n",
              "2        spam  Free entry in 2 a wkly comp to win FA Cup fina...\n",
              "3         ham  U dun say so early hor... U c already then say...\n",
              "4         ham  Nah I don't think he goes to usf, he lives aro...\n",
              "...       ...                                                ...\n",
              "5567     spam  This is the 2nd time we have tried 2 contact u...\n",
              "5568      ham               Will ü b going to esplanade fr home?\n",
              "5569      ham  Pity, * was in mood for that. So...any other s...\n",
              "5570      ham  The guy did some bitching but I acted like i'd...\n",
              "5571      ham                         Rofl. Its true to its name\n",
              "\n",
              "[5572 rows x 2 columns]"
            ],
            "text/html": [
              "\n",
              "  <div id=\"df-5c147714-3cfe-4b68-8bb5-7bb9ea0c9aa8\" class=\"colab-df-container\">\n",
              "    <div>\n",
              "<style scoped>\n",
              "    .dataframe tbody tr th:only-of-type {\n",
              "        vertical-align: middle;\n",
              "    }\n",
              "\n",
              "    .dataframe tbody tr th {\n",
              "        vertical-align: top;\n",
              "    }\n",
              "\n",
              "    .dataframe thead th {\n",
              "        text-align: right;\n",
              "    }\n",
              "</style>\n",
              "<table border=\"1\" class=\"dataframe\">\n",
              "  <thead>\n",
              "    <tr style=\"text-align: right;\">\n",
              "      <th></th>\n",
              "      <th>Category</th>\n",
              "      <th>Message</th>\n",
              "    </tr>\n",
              "  </thead>\n",
              "  <tbody>\n",
              "    <tr>\n",
              "      <th>0</th>\n",
              "      <td>ham</td>\n",
              "      <td>Go until jurong point, crazy.. Available only ...</td>\n",
              "    </tr>\n",
              "    <tr>\n",
              "      <th>1</th>\n",
              "      <td>ham</td>\n",
              "      <td>Ok lar... Joking wif u oni...</td>\n",
              "    </tr>\n",
              "    <tr>\n",
              "      <th>2</th>\n",
              "      <td>spam</td>\n",
              "      <td>Free entry in 2 a wkly comp to win FA Cup fina...</td>\n",
              "    </tr>\n",
              "    <tr>\n",
              "      <th>3</th>\n",
              "      <td>ham</td>\n",
              "      <td>U dun say so early hor... U c already then say...</td>\n",
              "    </tr>\n",
              "    <tr>\n",
              "      <th>4</th>\n",
              "      <td>ham</td>\n",
              "      <td>Nah I don't think he goes to usf, he lives aro...</td>\n",
              "    </tr>\n",
              "    <tr>\n",
              "      <th>...</th>\n",
              "      <td>...</td>\n",
              "      <td>...</td>\n",
              "    </tr>\n",
              "    <tr>\n",
              "      <th>5567</th>\n",
              "      <td>spam</td>\n",
              "      <td>This is the 2nd time we have tried 2 contact u...</td>\n",
              "    </tr>\n",
              "    <tr>\n",
              "      <th>5568</th>\n",
              "      <td>ham</td>\n",
              "      <td>Will ü b going to esplanade fr home?</td>\n",
              "    </tr>\n",
              "    <tr>\n",
              "      <th>5569</th>\n",
              "      <td>ham</td>\n",
              "      <td>Pity, * was in mood for that. So...any other s...</td>\n",
              "    </tr>\n",
              "    <tr>\n",
              "      <th>5570</th>\n",
              "      <td>ham</td>\n",
              "      <td>The guy did some bitching but I acted like i'd...</td>\n",
              "    </tr>\n",
              "    <tr>\n",
              "      <th>5571</th>\n",
              "      <td>ham</td>\n",
              "      <td>Rofl. Its true to its name</td>\n",
              "    </tr>\n",
              "  </tbody>\n",
              "</table>\n",
              "<p>5572 rows × 2 columns</p>\n",
              "</div>\n",
              "    <div class=\"colab-df-buttons\">\n",
              "\n",
              "  <div class=\"colab-df-container\">\n",
              "    <button class=\"colab-df-convert\" onclick=\"convertToInteractive('df-5c147714-3cfe-4b68-8bb5-7bb9ea0c9aa8')\"\n",
              "            title=\"Convert this dataframe to an interactive table.\"\n",
              "            style=\"display:none;\">\n",
              "\n",
              "  <svg xmlns=\"http://www.w3.org/2000/svg\" height=\"24px\" viewBox=\"0 -960 960 960\">\n",
              "    <path d=\"M120-120v-720h720v720H120Zm60-500h600v-160H180v160Zm220 220h160v-160H400v160Zm0 220h160v-160H400v160ZM180-400h160v-160H180v160Zm440 0h160v-160H620v160ZM180-180h160v-160H180v160Zm440 0h160v-160H620v160Z\"/>\n",
              "  </svg>\n",
              "    </button>\n",
              "\n",
              "  <style>\n",
              "    .colab-df-container {\n",
              "      display:flex;\n",
              "      gap: 12px;\n",
              "    }\n",
              "\n",
              "    .colab-df-convert {\n",
              "      background-color: #E8F0FE;\n",
              "      border: none;\n",
              "      border-radius: 50%;\n",
              "      cursor: pointer;\n",
              "      display: none;\n",
              "      fill: #1967D2;\n",
              "      height: 32px;\n",
              "      padding: 0 0 0 0;\n",
              "      width: 32px;\n",
              "    }\n",
              "\n",
              "    .colab-df-convert:hover {\n",
              "      background-color: #E2EBFA;\n",
              "      box-shadow: 0px 1px 2px rgba(60, 64, 67, 0.3), 0px 1px 3px 1px rgba(60, 64, 67, 0.15);\n",
              "      fill: #174EA6;\n",
              "    }\n",
              "\n",
              "    .colab-df-buttons div {\n",
              "      margin-bottom: 4px;\n",
              "    }\n",
              "\n",
              "    [theme=dark] .colab-df-convert {\n",
              "      background-color: #3B4455;\n",
              "      fill: #D2E3FC;\n",
              "    }\n",
              "\n",
              "    [theme=dark] .colab-df-convert:hover {\n",
              "      background-color: #434B5C;\n",
              "      box-shadow: 0px 1px 3px 1px rgba(0, 0, 0, 0.15);\n",
              "      filter: drop-shadow(0px 1px 2px rgba(0, 0, 0, 0.3));\n",
              "      fill: #FFFFFF;\n",
              "    }\n",
              "  </style>\n",
              "\n",
              "    <script>\n",
              "      const buttonEl =\n",
              "        document.querySelector('#df-5c147714-3cfe-4b68-8bb5-7bb9ea0c9aa8 button.colab-df-convert');\n",
              "      buttonEl.style.display =\n",
              "        google.colab.kernel.accessAllowed ? 'block' : 'none';\n",
              "\n",
              "      async function convertToInteractive(key) {\n",
              "        const element = document.querySelector('#df-5c147714-3cfe-4b68-8bb5-7bb9ea0c9aa8');\n",
              "        const dataTable =\n",
              "          await google.colab.kernel.invokeFunction('convertToInteractive',\n",
              "                                                    [key], {});\n",
              "        if (!dataTable) return;\n",
              "\n",
              "        const docLinkHtml = 'Like what you see? Visit the ' +\n",
              "          '<a target=\"_blank\" href=https://colab.research.google.com/notebooks/data_table.ipynb>data table notebook</a>'\n",
              "          + ' to learn more about interactive tables.';\n",
              "        element.innerHTML = '';\n",
              "        dataTable['output_type'] = 'display_data';\n",
              "        await google.colab.output.renderOutput(dataTable, element);\n",
              "        const docLink = document.createElement('div');\n",
              "        docLink.innerHTML = docLinkHtml;\n",
              "        element.appendChild(docLink);\n",
              "      }\n",
              "    </script>\n",
              "  </div>\n",
              "\n",
              "\n",
              "<div id=\"df-6786b8c5-14d0-418c-b1c1-a05ac73c4014\">\n",
              "  <button class=\"colab-df-quickchart\" onclick=\"quickchart('df-6786b8c5-14d0-418c-b1c1-a05ac73c4014')\"\n",
              "            title=\"Suggest charts\"\n",
              "            style=\"display:none;\">\n",
              "\n",
              "<svg xmlns=\"http://www.w3.org/2000/svg\" height=\"24px\"viewBox=\"0 0 24 24\"\n",
              "     width=\"24px\">\n",
              "    <g>\n",
              "        <path d=\"M19 3H5c-1.1 0-2 .9-2 2v14c0 1.1.9 2 2 2h14c1.1 0 2-.9 2-2V5c0-1.1-.9-2-2-2zM9 17H7v-7h2v7zm4 0h-2V7h2v10zm4 0h-2v-4h2v4z\"/>\n",
              "    </g>\n",
              "</svg>\n",
              "  </button>\n",
              "\n",
              "<style>\n",
              "  .colab-df-quickchart {\n",
              "      --bg-color: #E8F0FE;\n",
              "      --fill-color: #1967D2;\n",
              "      --hover-bg-color: #E2EBFA;\n",
              "      --hover-fill-color: #174EA6;\n",
              "      --disabled-fill-color: #AAA;\n",
              "      --disabled-bg-color: #DDD;\n",
              "  }\n",
              "\n",
              "  [theme=dark] .colab-df-quickchart {\n",
              "      --bg-color: #3B4455;\n",
              "      --fill-color: #D2E3FC;\n",
              "      --hover-bg-color: #434B5C;\n",
              "      --hover-fill-color: #FFFFFF;\n",
              "      --disabled-bg-color: #3B4455;\n",
              "      --disabled-fill-color: #666;\n",
              "  }\n",
              "\n",
              "  .colab-df-quickchart {\n",
              "    background-color: var(--bg-color);\n",
              "    border: none;\n",
              "    border-radius: 50%;\n",
              "    cursor: pointer;\n",
              "    display: none;\n",
              "    fill: var(--fill-color);\n",
              "    height: 32px;\n",
              "    padding: 0;\n",
              "    width: 32px;\n",
              "  }\n",
              "\n",
              "  .colab-df-quickchart:hover {\n",
              "    background-color: var(--hover-bg-color);\n",
              "    box-shadow: 0 1px 2px rgba(60, 64, 67, 0.3), 0 1px 3px 1px rgba(60, 64, 67, 0.15);\n",
              "    fill: var(--button-hover-fill-color);\n",
              "  }\n",
              "\n",
              "  .colab-df-quickchart-complete:disabled,\n",
              "  .colab-df-quickchart-complete:disabled:hover {\n",
              "    background-color: var(--disabled-bg-color);\n",
              "    fill: var(--disabled-fill-color);\n",
              "    box-shadow: none;\n",
              "  }\n",
              "\n",
              "  .colab-df-spinner {\n",
              "    border: 2px solid var(--fill-color);\n",
              "    border-color: transparent;\n",
              "    border-bottom-color: var(--fill-color);\n",
              "    animation:\n",
              "      spin 1s steps(1) infinite;\n",
              "  }\n",
              "\n",
              "  @keyframes spin {\n",
              "    0% {\n",
              "      border-color: transparent;\n",
              "      border-bottom-color: var(--fill-color);\n",
              "      border-left-color: var(--fill-color);\n",
              "    }\n",
              "    20% {\n",
              "      border-color: transparent;\n",
              "      border-left-color: var(--fill-color);\n",
              "      border-top-color: var(--fill-color);\n",
              "    }\n",
              "    30% {\n",
              "      border-color: transparent;\n",
              "      border-left-color: var(--fill-color);\n",
              "      border-top-color: var(--fill-color);\n",
              "      border-right-color: var(--fill-color);\n",
              "    }\n",
              "    40% {\n",
              "      border-color: transparent;\n",
              "      border-right-color: var(--fill-color);\n",
              "      border-top-color: var(--fill-color);\n",
              "    }\n",
              "    60% {\n",
              "      border-color: transparent;\n",
              "      border-right-color: var(--fill-color);\n",
              "    }\n",
              "    80% {\n",
              "      border-color: transparent;\n",
              "      border-right-color: var(--fill-color);\n",
              "      border-bottom-color: var(--fill-color);\n",
              "    }\n",
              "    90% {\n",
              "      border-color: transparent;\n",
              "      border-bottom-color: var(--fill-color);\n",
              "    }\n",
              "  }\n",
              "</style>\n",
              "\n",
              "  <script>\n",
              "    async function quickchart(key) {\n",
              "      const quickchartButtonEl =\n",
              "        document.querySelector('#' + key + ' button');\n",
              "      quickchartButtonEl.disabled = true;  // To prevent multiple clicks.\n",
              "      quickchartButtonEl.classList.add('colab-df-spinner');\n",
              "      try {\n",
              "        const charts = await google.colab.kernel.invokeFunction(\n",
              "            'suggestCharts', [key], {});\n",
              "      } catch (error) {\n",
              "        console.error('Error during call to suggestCharts:', error);\n",
              "      }\n",
              "      quickchartButtonEl.classList.remove('colab-df-spinner');\n",
              "      quickchartButtonEl.classList.add('colab-df-quickchart-complete');\n",
              "    }\n",
              "    (() => {\n",
              "      let quickchartButtonEl =\n",
              "        document.querySelector('#df-6786b8c5-14d0-418c-b1c1-a05ac73c4014 button');\n",
              "      quickchartButtonEl.style.display =\n",
              "        google.colab.kernel.accessAllowed ? 'block' : 'none';\n",
              "    })();\n",
              "  </script>\n",
              "</div>\n",
              "\n",
              "  <div id=\"id_06400ac8-a7fd-4923-8e47-0c81d107d7ea\">\n",
              "    <style>\n",
              "      .colab-df-generate {\n",
              "        background-color: #E8F0FE;\n",
              "        border: none;\n",
              "        border-radius: 50%;\n",
              "        cursor: pointer;\n",
              "        display: none;\n",
              "        fill: #1967D2;\n",
              "        height: 32px;\n",
              "        padding: 0 0 0 0;\n",
              "        width: 32px;\n",
              "      }\n",
              "\n",
              "      .colab-df-generate:hover {\n",
              "        background-color: #E2EBFA;\n",
              "        box-shadow: 0px 1px 2px rgba(60, 64, 67, 0.3), 0px 1px 3px 1px rgba(60, 64, 67, 0.15);\n",
              "        fill: #174EA6;\n",
              "      }\n",
              "\n",
              "      [theme=dark] .colab-df-generate {\n",
              "        background-color: #3B4455;\n",
              "        fill: #D2E3FC;\n",
              "      }\n",
              "\n",
              "      [theme=dark] .colab-df-generate:hover {\n",
              "        background-color: #434B5C;\n",
              "        box-shadow: 0px 1px 3px 1px rgba(0, 0, 0, 0.15);\n",
              "        filter: drop-shadow(0px 1px 2px rgba(0, 0, 0, 0.3));\n",
              "        fill: #FFFFFF;\n",
              "      }\n",
              "    </style>\n",
              "    <button class=\"colab-df-generate\" onclick=\"generateWithVariable('data')\"\n",
              "            title=\"Generate code using this dataframe.\"\n",
              "            style=\"display:none;\">\n",
              "\n",
              "  <svg xmlns=\"http://www.w3.org/2000/svg\" height=\"24px\"viewBox=\"0 0 24 24\"\n",
              "       width=\"24px\">\n",
              "    <path d=\"M7,19H8.4L18.45,9,17,7.55,7,17.6ZM5,21V16.75L18.45,3.32a2,2,0,0,1,2.83,0l1.4,1.43a1.91,1.91,0,0,1,.58,1.4,1.91,1.91,0,0,1-.58,1.4L9.25,21ZM18.45,9,17,7.55Zm-12,3A5.31,5.31,0,0,0,4.9,8.1,5.31,5.31,0,0,0,1,6.5,5.31,5.31,0,0,0,4.9,4.9,5.31,5.31,0,0,0,6.5,1,5.31,5.31,0,0,0,8.1,4.9,5.31,5.31,0,0,0,12,6.5,5.46,5.46,0,0,0,6.5,12Z\"/>\n",
              "  </svg>\n",
              "    </button>\n",
              "    <script>\n",
              "      (() => {\n",
              "      const buttonEl =\n",
              "        document.querySelector('#id_06400ac8-a7fd-4923-8e47-0c81d107d7ea button.colab-df-generate');\n",
              "      buttonEl.style.display =\n",
              "        google.colab.kernel.accessAllowed ? 'block' : 'none';\n",
              "\n",
              "      buttonEl.onclick = () => {\n",
              "        google.colab.notebook.generateWithVariable('data');\n",
              "      }\n",
              "      })();\n",
              "    </script>\n",
              "  </div>\n",
              "\n",
              "    </div>\n",
              "  </div>\n"
            ],
            "application/vnd.google.colaboratory.intrinsic+json": {
              "type": "dataframe",
              "variable_name": "data",
              "summary": "{\n  \"name\": \"data\",\n  \"rows\": 5572,\n  \"fields\": [\n    {\n      \"column\": \"Category\",\n      \"properties\": {\n        \"dtype\": \"category\",\n        \"num_unique_values\": 2,\n        \"samples\": [\n          \"spam\",\n          \"ham\"\n        ],\n        \"semantic_type\": \"\",\n        \"description\": \"\"\n      }\n    },\n    {\n      \"column\": \"Message\",\n      \"properties\": {\n        \"dtype\": \"string\",\n        \"num_unique_values\": 5157,\n        \"samples\": [\n          \"Also sir, i sent you an email about how to log into the usc payment portal. I.ll send you another message that should explain how things are back home. Have a great weekend.\",\n          \"Are you free now?can i call now?\"\n        ],\n        \"semantic_type\": \"\",\n        \"description\": \"\"\n      }\n    }\n  ]\n}"
            }
          },
          "metadata": {},
          "execution_count": 199
        }
      ]
    },
    {
      "cell_type": "code",
      "source": [
        "data.shape"
      ],
      "metadata": {
        "colab": {
          "base_uri": "https://localhost:8080/"
        },
        "id": "iqcQJWp1NW6q",
        "outputId": "34446450-4cd0-4ab8-a285-5f40fc203f1c"
      },
      "execution_count": null,
      "outputs": [
        {
          "output_type": "execute_result",
          "data": {
            "text/plain": [
              "(5572, 2)"
            ]
          },
          "metadata": {},
          "execution_count": 200
        }
      ]
    },
    {
      "cell_type": "code",
      "source": [
        "data.head()"
      ],
      "metadata": {
        "colab": {
          "base_uri": "https://localhost:8080/",
          "height": 206
        },
        "id": "ULfz4dxUNZMC",
        "outputId": "6c773f80-2e56-4f54-9fe0-e0104ce578dc"
      },
      "execution_count": null,
      "outputs": [
        {
          "output_type": "execute_result",
          "data": {
            "text/plain": [
              "  Category                                            Message\n",
              "0      ham  Go until jurong point, crazy.. Available only ...\n",
              "1      ham                      Ok lar... Joking wif u oni...\n",
              "2     spam  Free entry in 2 a wkly comp to win FA Cup fina...\n",
              "3      ham  U dun say so early hor... U c already then say...\n",
              "4      ham  Nah I don't think he goes to usf, he lives aro..."
            ],
            "text/html": [
              "\n",
              "  <div id=\"df-6e5f29ba-82e6-445f-9759-0d0f2b9fd84e\" class=\"colab-df-container\">\n",
              "    <div>\n",
              "<style scoped>\n",
              "    .dataframe tbody tr th:only-of-type {\n",
              "        vertical-align: middle;\n",
              "    }\n",
              "\n",
              "    .dataframe tbody tr th {\n",
              "        vertical-align: top;\n",
              "    }\n",
              "\n",
              "    .dataframe thead th {\n",
              "        text-align: right;\n",
              "    }\n",
              "</style>\n",
              "<table border=\"1\" class=\"dataframe\">\n",
              "  <thead>\n",
              "    <tr style=\"text-align: right;\">\n",
              "      <th></th>\n",
              "      <th>Category</th>\n",
              "      <th>Message</th>\n",
              "    </tr>\n",
              "  </thead>\n",
              "  <tbody>\n",
              "    <tr>\n",
              "      <th>0</th>\n",
              "      <td>ham</td>\n",
              "      <td>Go until jurong point, crazy.. Available only ...</td>\n",
              "    </tr>\n",
              "    <tr>\n",
              "      <th>1</th>\n",
              "      <td>ham</td>\n",
              "      <td>Ok lar... Joking wif u oni...</td>\n",
              "    </tr>\n",
              "    <tr>\n",
              "      <th>2</th>\n",
              "      <td>spam</td>\n",
              "      <td>Free entry in 2 a wkly comp to win FA Cup fina...</td>\n",
              "    </tr>\n",
              "    <tr>\n",
              "      <th>3</th>\n",
              "      <td>ham</td>\n",
              "      <td>U dun say so early hor... U c already then say...</td>\n",
              "    </tr>\n",
              "    <tr>\n",
              "      <th>4</th>\n",
              "      <td>ham</td>\n",
              "      <td>Nah I don't think he goes to usf, he lives aro...</td>\n",
              "    </tr>\n",
              "  </tbody>\n",
              "</table>\n",
              "</div>\n",
              "    <div class=\"colab-df-buttons\">\n",
              "\n",
              "  <div class=\"colab-df-container\">\n",
              "    <button class=\"colab-df-convert\" onclick=\"convertToInteractive('df-6e5f29ba-82e6-445f-9759-0d0f2b9fd84e')\"\n",
              "            title=\"Convert this dataframe to an interactive table.\"\n",
              "            style=\"display:none;\">\n",
              "\n",
              "  <svg xmlns=\"http://www.w3.org/2000/svg\" height=\"24px\" viewBox=\"0 -960 960 960\">\n",
              "    <path d=\"M120-120v-720h720v720H120Zm60-500h600v-160H180v160Zm220 220h160v-160H400v160Zm0 220h160v-160H400v160ZM180-400h160v-160H180v160Zm440 0h160v-160H620v160ZM180-180h160v-160H180v160Zm440 0h160v-160H620v160Z\"/>\n",
              "  </svg>\n",
              "    </button>\n",
              "\n",
              "  <style>\n",
              "    .colab-df-container {\n",
              "      display:flex;\n",
              "      gap: 12px;\n",
              "    }\n",
              "\n",
              "    .colab-df-convert {\n",
              "      background-color: #E8F0FE;\n",
              "      border: none;\n",
              "      border-radius: 50%;\n",
              "      cursor: pointer;\n",
              "      display: none;\n",
              "      fill: #1967D2;\n",
              "      height: 32px;\n",
              "      padding: 0 0 0 0;\n",
              "      width: 32px;\n",
              "    }\n",
              "\n",
              "    .colab-df-convert:hover {\n",
              "      background-color: #E2EBFA;\n",
              "      box-shadow: 0px 1px 2px rgba(60, 64, 67, 0.3), 0px 1px 3px 1px rgba(60, 64, 67, 0.15);\n",
              "      fill: #174EA6;\n",
              "    }\n",
              "\n",
              "    .colab-df-buttons div {\n",
              "      margin-bottom: 4px;\n",
              "    }\n",
              "\n",
              "    [theme=dark] .colab-df-convert {\n",
              "      background-color: #3B4455;\n",
              "      fill: #D2E3FC;\n",
              "    }\n",
              "\n",
              "    [theme=dark] .colab-df-convert:hover {\n",
              "      background-color: #434B5C;\n",
              "      box-shadow: 0px 1px 3px 1px rgba(0, 0, 0, 0.15);\n",
              "      filter: drop-shadow(0px 1px 2px rgba(0, 0, 0, 0.3));\n",
              "      fill: #FFFFFF;\n",
              "    }\n",
              "  </style>\n",
              "\n",
              "    <script>\n",
              "      const buttonEl =\n",
              "        document.querySelector('#df-6e5f29ba-82e6-445f-9759-0d0f2b9fd84e button.colab-df-convert');\n",
              "      buttonEl.style.display =\n",
              "        google.colab.kernel.accessAllowed ? 'block' : 'none';\n",
              "\n",
              "      async function convertToInteractive(key) {\n",
              "        const element = document.querySelector('#df-6e5f29ba-82e6-445f-9759-0d0f2b9fd84e');\n",
              "        const dataTable =\n",
              "          await google.colab.kernel.invokeFunction('convertToInteractive',\n",
              "                                                    [key], {});\n",
              "        if (!dataTable) return;\n",
              "\n",
              "        const docLinkHtml = 'Like what you see? Visit the ' +\n",
              "          '<a target=\"_blank\" href=https://colab.research.google.com/notebooks/data_table.ipynb>data table notebook</a>'\n",
              "          + ' to learn more about interactive tables.';\n",
              "        element.innerHTML = '';\n",
              "        dataTable['output_type'] = 'display_data';\n",
              "        await google.colab.output.renderOutput(dataTable, element);\n",
              "        const docLink = document.createElement('div');\n",
              "        docLink.innerHTML = docLinkHtml;\n",
              "        element.appendChild(docLink);\n",
              "      }\n",
              "    </script>\n",
              "  </div>\n",
              "\n",
              "\n",
              "<div id=\"df-8fb3605d-fcea-4e6e-bd3d-ea90dd048c6a\">\n",
              "  <button class=\"colab-df-quickchart\" onclick=\"quickchart('df-8fb3605d-fcea-4e6e-bd3d-ea90dd048c6a')\"\n",
              "            title=\"Suggest charts\"\n",
              "            style=\"display:none;\">\n",
              "\n",
              "<svg xmlns=\"http://www.w3.org/2000/svg\" height=\"24px\"viewBox=\"0 0 24 24\"\n",
              "     width=\"24px\">\n",
              "    <g>\n",
              "        <path d=\"M19 3H5c-1.1 0-2 .9-2 2v14c0 1.1.9 2 2 2h14c1.1 0 2-.9 2-2V5c0-1.1-.9-2-2-2zM9 17H7v-7h2v7zm4 0h-2V7h2v10zm4 0h-2v-4h2v4z\"/>\n",
              "    </g>\n",
              "</svg>\n",
              "  </button>\n",
              "\n",
              "<style>\n",
              "  .colab-df-quickchart {\n",
              "      --bg-color: #E8F0FE;\n",
              "      --fill-color: #1967D2;\n",
              "      --hover-bg-color: #E2EBFA;\n",
              "      --hover-fill-color: #174EA6;\n",
              "      --disabled-fill-color: #AAA;\n",
              "      --disabled-bg-color: #DDD;\n",
              "  }\n",
              "\n",
              "  [theme=dark] .colab-df-quickchart {\n",
              "      --bg-color: #3B4455;\n",
              "      --fill-color: #D2E3FC;\n",
              "      --hover-bg-color: #434B5C;\n",
              "      --hover-fill-color: #FFFFFF;\n",
              "      --disabled-bg-color: #3B4455;\n",
              "      --disabled-fill-color: #666;\n",
              "  }\n",
              "\n",
              "  .colab-df-quickchart {\n",
              "    background-color: var(--bg-color);\n",
              "    border: none;\n",
              "    border-radius: 50%;\n",
              "    cursor: pointer;\n",
              "    display: none;\n",
              "    fill: var(--fill-color);\n",
              "    height: 32px;\n",
              "    padding: 0;\n",
              "    width: 32px;\n",
              "  }\n",
              "\n",
              "  .colab-df-quickchart:hover {\n",
              "    background-color: var(--hover-bg-color);\n",
              "    box-shadow: 0 1px 2px rgba(60, 64, 67, 0.3), 0 1px 3px 1px rgba(60, 64, 67, 0.15);\n",
              "    fill: var(--button-hover-fill-color);\n",
              "  }\n",
              "\n",
              "  .colab-df-quickchart-complete:disabled,\n",
              "  .colab-df-quickchart-complete:disabled:hover {\n",
              "    background-color: var(--disabled-bg-color);\n",
              "    fill: var(--disabled-fill-color);\n",
              "    box-shadow: none;\n",
              "  }\n",
              "\n",
              "  .colab-df-spinner {\n",
              "    border: 2px solid var(--fill-color);\n",
              "    border-color: transparent;\n",
              "    border-bottom-color: var(--fill-color);\n",
              "    animation:\n",
              "      spin 1s steps(1) infinite;\n",
              "  }\n",
              "\n",
              "  @keyframes spin {\n",
              "    0% {\n",
              "      border-color: transparent;\n",
              "      border-bottom-color: var(--fill-color);\n",
              "      border-left-color: var(--fill-color);\n",
              "    }\n",
              "    20% {\n",
              "      border-color: transparent;\n",
              "      border-left-color: var(--fill-color);\n",
              "      border-top-color: var(--fill-color);\n",
              "    }\n",
              "    30% {\n",
              "      border-color: transparent;\n",
              "      border-left-color: var(--fill-color);\n",
              "      border-top-color: var(--fill-color);\n",
              "      border-right-color: var(--fill-color);\n",
              "    }\n",
              "    40% {\n",
              "      border-color: transparent;\n",
              "      border-right-color: var(--fill-color);\n",
              "      border-top-color: var(--fill-color);\n",
              "    }\n",
              "    60% {\n",
              "      border-color: transparent;\n",
              "      border-right-color: var(--fill-color);\n",
              "    }\n",
              "    80% {\n",
              "      border-color: transparent;\n",
              "      border-right-color: var(--fill-color);\n",
              "      border-bottom-color: var(--fill-color);\n",
              "    }\n",
              "    90% {\n",
              "      border-color: transparent;\n",
              "      border-bottom-color: var(--fill-color);\n",
              "    }\n",
              "  }\n",
              "</style>\n",
              "\n",
              "  <script>\n",
              "    async function quickchart(key) {\n",
              "      const quickchartButtonEl =\n",
              "        document.querySelector('#' + key + ' button');\n",
              "      quickchartButtonEl.disabled = true;  // To prevent multiple clicks.\n",
              "      quickchartButtonEl.classList.add('colab-df-spinner');\n",
              "      try {\n",
              "        const charts = await google.colab.kernel.invokeFunction(\n",
              "            'suggestCharts', [key], {});\n",
              "      } catch (error) {\n",
              "        console.error('Error during call to suggestCharts:', error);\n",
              "      }\n",
              "      quickchartButtonEl.classList.remove('colab-df-spinner');\n",
              "      quickchartButtonEl.classList.add('colab-df-quickchart-complete');\n",
              "    }\n",
              "    (() => {\n",
              "      let quickchartButtonEl =\n",
              "        document.querySelector('#df-8fb3605d-fcea-4e6e-bd3d-ea90dd048c6a button');\n",
              "      quickchartButtonEl.style.display =\n",
              "        google.colab.kernel.accessAllowed ? 'block' : 'none';\n",
              "    })();\n",
              "  </script>\n",
              "</div>\n",
              "\n",
              "    </div>\n",
              "  </div>\n"
            ],
            "application/vnd.google.colaboratory.intrinsic+json": {
              "type": "dataframe",
              "variable_name": "data",
              "summary": "{\n  \"name\": \"data\",\n  \"rows\": 5572,\n  \"fields\": [\n    {\n      \"column\": \"Category\",\n      \"properties\": {\n        \"dtype\": \"category\",\n        \"num_unique_values\": 2,\n        \"samples\": [\n          \"spam\",\n          \"ham\"\n        ],\n        \"semantic_type\": \"\",\n        \"description\": \"\"\n      }\n    },\n    {\n      \"column\": \"Message\",\n      \"properties\": {\n        \"dtype\": \"string\",\n        \"num_unique_values\": 5157,\n        \"samples\": [\n          \"Also sir, i sent you an email about how to log into the usc payment portal. I.ll send you another message that should explain how things are back home. Have a great weekend.\",\n          \"Are you free now?can i call now?\"\n        ],\n        \"semantic_type\": \"\",\n        \"description\": \"\"\n      }\n    }\n  ]\n}"
            }
          },
          "metadata": {},
          "execution_count": 201
        }
      ]
    },
    {
      "cell_type": "code",
      "source": [
        "data.tail()"
      ],
      "metadata": {
        "colab": {
          "base_uri": "https://localhost:8080/",
          "height": 206
        },
        "id": "Gzw6f_rFNast",
        "outputId": "87feb7e4-6c3d-4e4a-9e6e-0a221f43fa0e"
      },
      "execution_count": null,
      "outputs": [
        {
          "output_type": "execute_result",
          "data": {
            "text/plain": [
              "     Category                                            Message\n",
              "5567     spam  This is the 2nd time we have tried 2 contact u...\n",
              "5568      ham               Will ü b going to esplanade fr home?\n",
              "5569      ham  Pity, * was in mood for that. So...any other s...\n",
              "5570      ham  The guy did some bitching but I acted like i'd...\n",
              "5571      ham                         Rofl. Its true to its name"
            ],
            "text/html": [
              "\n",
              "  <div id=\"df-18591a0b-bc20-4633-9507-5422552b4ec9\" class=\"colab-df-container\">\n",
              "    <div>\n",
              "<style scoped>\n",
              "    .dataframe tbody tr th:only-of-type {\n",
              "        vertical-align: middle;\n",
              "    }\n",
              "\n",
              "    .dataframe tbody tr th {\n",
              "        vertical-align: top;\n",
              "    }\n",
              "\n",
              "    .dataframe thead th {\n",
              "        text-align: right;\n",
              "    }\n",
              "</style>\n",
              "<table border=\"1\" class=\"dataframe\">\n",
              "  <thead>\n",
              "    <tr style=\"text-align: right;\">\n",
              "      <th></th>\n",
              "      <th>Category</th>\n",
              "      <th>Message</th>\n",
              "    </tr>\n",
              "  </thead>\n",
              "  <tbody>\n",
              "    <tr>\n",
              "      <th>5567</th>\n",
              "      <td>spam</td>\n",
              "      <td>This is the 2nd time we have tried 2 contact u...</td>\n",
              "    </tr>\n",
              "    <tr>\n",
              "      <th>5568</th>\n",
              "      <td>ham</td>\n",
              "      <td>Will ü b going to esplanade fr home?</td>\n",
              "    </tr>\n",
              "    <tr>\n",
              "      <th>5569</th>\n",
              "      <td>ham</td>\n",
              "      <td>Pity, * was in mood for that. So...any other s...</td>\n",
              "    </tr>\n",
              "    <tr>\n",
              "      <th>5570</th>\n",
              "      <td>ham</td>\n",
              "      <td>The guy did some bitching but I acted like i'd...</td>\n",
              "    </tr>\n",
              "    <tr>\n",
              "      <th>5571</th>\n",
              "      <td>ham</td>\n",
              "      <td>Rofl. Its true to its name</td>\n",
              "    </tr>\n",
              "  </tbody>\n",
              "</table>\n",
              "</div>\n",
              "    <div class=\"colab-df-buttons\">\n",
              "\n",
              "  <div class=\"colab-df-container\">\n",
              "    <button class=\"colab-df-convert\" onclick=\"convertToInteractive('df-18591a0b-bc20-4633-9507-5422552b4ec9')\"\n",
              "            title=\"Convert this dataframe to an interactive table.\"\n",
              "            style=\"display:none;\">\n",
              "\n",
              "  <svg xmlns=\"http://www.w3.org/2000/svg\" height=\"24px\" viewBox=\"0 -960 960 960\">\n",
              "    <path d=\"M120-120v-720h720v720H120Zm60-500h600v-160H180v160Zm220 220h160v-160H400v160Zm0 220h160v-160H400v160ZM180-400h160v-160H180v160Zm440 0h160v-160H620v160ZM180-180h160v-160H180v160Zm440 0h160v-160H620v160Z\"/>\n",
              "  </svg>\n",
              "    </button>\n",
              "\n",
              "  <style>\n",
              "    .colab-df-container {\n",
              "      display:flex;\n",
              "      gap: 12px;\n",
              "    }\n",
              "\n",
              "    .colab-df-convert {\n",
              "      background-color: #E8F0FE;\n",
              "      border: none;\n",
              "      border-radius: 50%;\n",
              "      cursor: pointer;\n",
              "      display: none;\n",
              "      fill: #1967D2;\n",
              "      height: 32px;\n",
              "      padding: 0 0 0 0;\n",
              "      width: 32px;\n",
              "    }\n",
              "\n",
              "    .colab-df-convert:hover {\n",
              "      background-color: #E2EBFA;\n",
              "      box-shadow: 0px 1px 2px rgba(60, 64, 67, 0.3), 0px 1px 3px 1px rgba(60, 64, 67, 0.15);\n",
              "      fill: #174EA6;\n",
              "    }\n",
              "\n",
              "    .colab-df-buttons div {\n",
              "      margin-bottom: 4px;\n",
              "    }\n",
              "\n",
              "    [theme=dark] .colab-df-convert {\n",
              "      background-color: #3B4455;\n",
              "      fill: #D2E3FC;\n",
              "    }\n",
              "\n",
              "    [theme=dark] .colab-df-convert:hover {\n",
              "      background-color: #434B5C;\n",
              "      box-shadow: 0px 1px 3px 1px rgba(0, 0, 0, 0.15);\n",
              "      filter: drop-shadow(0px 1px 2px rgba(0, 0, 0, 0.3));\n",
              "      fill: #FFFFFF;\n",
              "    }\n",
              "  </style>\n",
              "\n",
              "    <script>\n",
              "      const buttonEl =\n",
              "        document.querySelector('#df-18591a0b-bc20-4633-9507-5422552b4ec9 button.colab-df-convert');\n",
              "      buttonEl.style.display =\n",
              "        google.colab.kernel.accessAllowed ? 'block' : 'none';\n",
              "\n",
              "      async function convertToInteractive(key) {\n",
              "        const element = document.querySelector('#df-18591a0b-bc20-4633-9507-5422552b4ec9');\n",
              "        const dataTable =\n",
              "          await google.colab.kernel.invokeFunction('convertToInteractive',\n",
              "                                                    [key], {});\n",
              "        if (!dataTable) return;\n",
              "\n",
              "        const docLinkHtml = 'Like what you see? Visit the ' +\n",
              "          '<a target=\"_blank\" href=https://colab.research.google.com/notebooks/data_table.ipynb>data table notebook</a>'\n",
              "          + ' to learn more about interactive tables.';\n",
              "        element.innerHTML = '';\n",
              "        dataTable['output_type'] = 'display_data';\n",
              "        await google.colab.output.renderOutput(dataTable, element);\n",
              "        const docLink = document.createElement('div');\n",
              "        docLink.innerHTML = docLinkHtml;\n",
              "        element.appendChild(docLink);\n",
              "      }\n",
              "    </script>\n",
              "  </div>\n",
              "\n",
              "\n",
              "<div id=\"df-5a718b07-648f-40f2-bda0-212c69a8f184\">\n",
              "  <button class=\"colab-df-quickchart\" onclick=\"quickchart('df-5a718b07-648f-40f2-bda0-212c69a8f184')\"\n",
              "            title=\"Suggest charts\"\n",
              "            style=\"display:none;\">\n",
              "\n",
              "<svg xmlns=\"http://www.w3.org/2000/svg\" height=\"24px\"viewBox=\"0 0 24 24\"\n",
              "     width=\"24px\">\n",
              "    <g>\n",
              "        <path d=\"M19 3H5c-1.1 0-2 .9-2 2v14c0 1.1.9 2 2 2h14c1.1 0 2-.9 2-2V5c0-1.1-.9-2-2-2zM9 17H7v-7h2v7zm4 0h-2V7h2v10zm4 0h-2v-4h2v4z\"/>\n",
              "    </g>\n",
              "</svg>\n",
              "  </button>\n",
              "\n",
              "<style>\n",
              "  .colab-df-quickchart {\n",
              "      --bg-color: #E8F0FE;\n",
              "      --fill-color: #1967D2;\n",
              "      --hover-bg-color: #E2EBFA;\n",
              "      --hover-fill-color: #174EA6;\n",
              "      --disabled-fill-color: #AAA;\n",
              "      --disabled-bg-color: #DDD;\n",
              "  }\n",
              "\n",
              "  [theme=dark] .colab-df-quickchart {\n",
              "      --bg-color: #3B4455;\n",
              "      --fill-color: #D2E3FC;\n",
              "      --hover-bg-color: #434B5C;\n",
              "      --hover-fill-color: #FFFFFF;\n",
              "      --disabled-bg-color: #3B4455;\n",
              "      --disabled-fill-color: #666;\n",
              "  }\n",
              "\n",
              "  .colab-df-quickchart {\n",
              "    background-color: var(--bg-color);\n",
              "    border: none;\n",
              "    border-radius: 50%;\n",
              "    cursor: pointer;\n",
              "    display: none;\n",
              "    fill: var(--fill-color);\n",
              "    height: 32px;\n",
              "    padding: 0;\n",
              "    width: 32px;\n",
              "  }\n",
              "\n",
              "  .colab-df-quickchart:hover {\n",
              "    background-color: var(--hover-bg-color);\n",
              "    box-shadow: 0 1px 2px rgba(60, 64, 67, 0.3), 0 1px 3px 1px rgba(60, 64, 67, 0.15);\n",
              "    fill: var(--button-hover-fill-color);\n",
              "  }\n",
              "\n",
              "  .colab-df-quickchart-complete:disabled,\n",
              "  .colab-df-quickchart-complete:disabled:hover {\n",
              "    background-color: var(--disabled-bg-color);\n",
              "    fill: var(--disabled-fill-color);\n",
              "    box-shadow: none;\n",
              "  }\n",
              "\n",
              "  .colab-df-spinner {\n",
              "    border: 2px solid var(--fill-color);\n",
              "    border-color: transparent;\n",
              "    border-bottom-color: var(--fill-color);\n",
              "    animation:\n",
              "      spin 1s steps(1) infinite;\n",
              "  }\n",
              "\n",
              "  @keyframes spin {\n",
              "    0% {\n",
              "      border-color: transparent;\n",
              "      border-bottom-color: var(--fill-color);\n",
              "      border-left-color: var(--fill-color);\n",
              "    }\n",
              "    20% {\n",
              "      border-color: transparent;\n",
              "      border-left-color: var(--fill-color);\n",
              "      border-top-color: var(--fill-color);\n",
              "    }\n",
              "    30% {\n",
              "      border-color: transparent;\n",
              "      border-left-color: var(--fill-color);\n",
              "      border-top-color: var(--fill-color);\n",
              "      border-right-color: var(--fill-color);\n",
              "    }\n",
              "    40% {\n",
              "      border-color: transparent;\n",
              "      border-right-color: var(--fill-color);\n",
              "      border-top-color: var(--fill-color);\n",
              "    }\n",
              "    60% {\n",
              "      border-color: transparent;\n",
              "      border-right-color: var(--fill-color);\n",
              "    }\n",
              "    80% {\n",
              "      border-color: transparent;\n",
              "      border-right-color: var(--fill-color);\n",
              "      border-bottom-color: var(--fill-color);\n",
              "    }\n",
              "    90% {\n",
              "      border-color: transparent;\n",
              "      border-bottom-color: var(--fill-color);\n",
              "    }\n",
              "  }\n",
              "</style>\n",
              "\n",
              "  <script>\n",
              "    async function quickchart(key) {\n",
              "      const quickchartButtonEl =\n",
              "        document.querySelector('#' + key + ' button');\n",
              "      quickchartButtonEl.disabled = true;  // To prevent multiple clicks.\n",
              "      quickchartButtonEl.classList.add('colab-df-spinner');\n",
              "      try {\n",
              "        const charts = await google.colab.kernel.invokeFunction(\n",
              "            'suggestCharts', [key], {});\n",
              "      } catch (error) {\n",
              "        console.error('Error during call to suggestCharts:', error);\n",
              "      }\n",
              "      quickchartButtonEl.classList.remove('colab-df-spinner');\n",
              "      quickchartButtonEl.classList.add('colab-df-quickchart-complete');\n",
              "    }\n",
              "    (() => {\n",
              "      let quickchartButtonEl =\n",
              "        document.querySelector('#df-5a718b07-648f-40f2-bda0-212c69a8f184 button');\n",
              "      quickchartButtonEl.style.display =\n",
              "        google.colab.kernel.accessAllowed ? 'block' : 'none';\n",
              "    })();\n",
              "  </script>\n",
              "</div>\n",
              "\n",
              "    </div>\n",
              "  </div>\n"
            ],
            "application/vnd.google.colaboratory.intrinsic+json": {
              "type": "dataframe",
              "summary": "{\n  \"name\": \"data\",\n  \"rows\": 5,\n  \"fields\": [\n    {\n      \"column\": \"Category\",\n      \"properties\": {\n        \"dtype\": \"category\",\n        \"num_unique_values\": 2,\n        \"samples\": [\n          \"ham\",\n          \"spam\"\n        ],\n        \"semantic_type\": \"\",\n        \"description\": \"\"\n      }\n    },\n    {\n      \"column\": \"Message\",\n      \"properties\": {\n        \"dtype\": \"string\",\n        \"num_unique_values\": 5,\n        \"samples\": [\n          \"Will \\u00fc b going to esplanade fr home?\",\n          \"Rofl. Its true to its name\"\n        ],\n        \"semantic_type\": \"\",\n        \"description\": \"\"\n      }\n    }\n  ]\n}"
            }
          },
          "metadata": {},
          "execution_count": 202
        }
      ]
    },
    {
      "cell_type": "code",
      "source": [
        "data.dtypes"
      ],
      "metadata": {
        "colab": {
          "base_uri": "https://localhost:8080/"
        },
        "id": "TBKaS9qWNddv",
        "outputId": "2d3edd8d-7045-4d4a-92b0-ffa45ca46b3e"
      },
      "execution_count": null,
      "outputs": [
        {
          "output_type": "execute_result",
          "data": {
            "text/plain": [
              "Category    object\n",
              "Message     object\n",
              "dtype: object"
            ]
          },
          "metadata": {},
          "execution_count": 203
        }
      ]
    },
    {
      "cell_type": "code",
      "source": [
        "data.info()"
      ],
      "metadata": {
        "colab": {
          "base_uri": "https://localhost:8080/"
        },
        "id": "ItFpaTUONkOY",
        "outputId": "16c1a1b1-192e-46dc-c1bf-d5b45d671ba3"
      },
      "execution_count": null,
      "outputs": [
        {
          "output_type": "stream",
          "name": "stdout",
          "text": [
            "<class 'pandas.core.frame.DataFrame'>\n",
            "RangeIndex: 5572 entries, 0 to 5571\n",
            "Data columns (total 2 columns):\n",
            " #   Column    Non-Null Count  Dtype \n",
            "---  ------    --------------  ----- \n",
            " 0   Category  5572 non-null   object\n",
            " 1   Message   5572 non-null   object\n",
            "dtypes: object(2)\n",
            "memory usage: 87.2+ KB\n"
          ]
        }
      ]
    },
    {
      "cell_type": "code",
      "source": [
        "data['Category'].unique()"
      ],
      "metadata": {
        "colab": {
          "base_uri": "https://localhost:8080/"
        },
        "id": "aX_AIhgqNt7Z",
        "outputId": "da6f1d25-e530-4bad-a9ea-55d9de714d81"
      },
      "execution_count": null,
      "outputs": [
        {
          "output_type": "execute_result",
          "data": {
            "text/plain": [
              "array(['ham', 'spam'], dtype=object)"
            ]
          },
          "metadata": {},
          "execution_count": 205
        }
      ]
    },
    {
      "cell_type": "code",
      "source": [
        "sns.countplot(data['Category'],color='y')"
      ],
      "metadata": {
        "colab": {
          "base_uri": "https://localhost:8080/",
          "height": 466
        },
        "id": "5nYPKC_BN7Qm",
        "outputId": "284dd3a3-8be7-4f88-e827-5b4c52b6a3cd"
      },
      "execution_count": null,
      "outputs": [
        {
          "output_type": "execute_result",
          "data": {
            "text/plain": [
              "<Axes: xlabel='count', ylabel='Category'>"
            ]
          },
          "metadata": {},
          "execution_count": 206
        },
        {
          "output_type": "display_data",
          "data": {
            "text/plain": [
              "<Figure size 640x480 with 1 Axes>"
            ],
            "image/png": "[encoded data removed]"
          },
          "metadata": {}
        }
      ]
    },
    {
      "cell_type": "code",
      "source": [
        "data['Category']=data['Category'].map({'ham':0,'spam':1})\n",
        "data.head()"
      ],
      "metadata": {
        "colab": {
          "base_uri": "https://localhost:8080/",
          "height": 206
        },
        "id": "4F1r2322QmEI",
        "outputId": "003bc8b9-a9d8-4eb4-b32e-d759f3cef14e"
      },
      "execution_count": null,
      "outputs": [
        {
          "output_type": "execute_result",
          "data": {
            "text/plain": [
              "   Category                                            Message\n",
              "0         0  Go until jurong point, crazy.. Available only ...\n",
              "1         0                      Ok lar... Joking wif u oni...\n",
              "2         1  Free entry in 2 a wkly comp to win FA Cup fina...\n",
              "3         0  U dun say so early hor... U c already then say...\n",
              "4         0  Nah I don't think he goes to usf, he lives aro..."
            ],
            "text/html": [
              "\n",
              "  <div id=\"df-6f1d1eb7-e084-4bbd-9fa3-45032904e746\" class=\"colab-df-container\">\n",
              "    <div>\n",
              "<style scoped>\n",
              "    .dataframe tbody tr th:only-of-type {\n",
              "        vertical-align: middle;\n",
              "    }\n",
              "\n",
              "    .dataframe tbody tr th {\n",
              "        vertical-align: top;\n",
              "    }\n",
              "\n",
              "    .dataframe thead th {\n",
              "        text-align: right;\n",
              "    }\n",
              "</style>\n",
              "<table border=\"1\" class=\"dataframe\">\n",
              "  <thead>\n",
              "    <tr style=\"text-align: right;\">\n",
              "      <th></th>\n",
              "      <th>Category</th>\n",
              "      <th>Message</th>\n",
              "    </tr>\n",
              "  </thead>\n",
              "  <tbody>\n",
              "    <tr>\n",
              "      <th>0</th>\n",
              "      <td>0</td>\n",
              "      <td>Go until jurong point, crazy.. Available only ...</td>\n",
              "    </tr>\n",
              "    <tr>\n",
              "      <th>1</th>\n",
              "      <td>0</td>\n",
              "      <td>Ok lar... Joking wif u oni...</td>\n",
              "    </tr>\n",
              "    <tr>\n",
              "      <th>2</th>\n",
              "      <td>1</td>\n",
              "      <td>Free entry in 2 a wkly comp to win FA Cup fina...</td>\n",
              "    </tr>\n",
              "    <tr>\n",
              "      <th>3</th>\n",
              "      <td>0</td>\n",
              "      <td>U dun say so early hor... U c already then say...</td>\n",
              "    </tr>\n",
              "    <tr>\n",
              "      <th>4</th>\n",
              "      <td>0</td>\n",
              "      <td>Nah I don't think he goes to usf, he lives aro...</td>\n",
              "    </tr>\n",
              "  </tbody>\n",
              "</table>\n",
              "</div>\n",
              "    <div class=\"colab-df-buttons\">\n",
              "\n",
              "  <div class=\"colab-df-container\">\n",
              "    <button class=\"colab-df-convert\" onclick=\"convertToInteractive('df-6f1d1eb7-e084-4bbd-9fa3-45032904e746')\"\n",
              "            title=\"Convert this dataframe to an interactive table.\"\n",
              "            style=\"display:none;\">\n",
              "\n",
              "  <svg xmlns=\"http://www.w3.org/2000/svg\" height=\"24px\" viewBox=\"0 -960 960 960\">\n",
              "    <path d=\"M120-120v-720h720v720H120Zm60-500h600v-160H180v160Zm220 220h160v-160H400v160Zm0 220h160v-160H400v160ZM180-400h160v-160H180v160Zm440 0h160v-160H620v160ZM180-180h160v-160H180v160Zm440 0h160v-160H620v160Z\"/>\n",
              "  </svg>\n",
              "    </button>\n",
              "\n",
              "  <style>\n",
              "    .colab-df-container {\n",
              "      display:flex;\n",
              "      gap: 12px;\n",
              "    }\n",
              "\n",
              "    .colab-df-convert {\n",
              "      background-color: #E8F0FE;\n",
              "      border: none;\n",
              "      border-radius: 50%;\n",
              "      cursor: pointer;\n",
              "      display: none;\n",
              "      fill: #1967D2;\n",
              "      height: 32px;\n",
              "      padding: 0 0 0 0;\n",
              "      width: 32px;\n",
              "    }\n",
              "\n",
              "    .colab-df-convert:hover {\n",
              "      background-color: #E2EBFA;\n",
              "      box-shadow: 0px 1px 2px rgba(60, 64, 67, 0.3), 0px 1px 3px 1px rgba(60, 64, 67, 0.15);\n",
              "      fill: #174EA6;\n",
              "    }\n",
              "\n",
              "    .colab-df-buttons div {\n",
              "      margin-bottom: 4px;\n",
              "    }\n",
              "\n",
              "    [theme=dark] .colab-df-convert {\n",
              "      background-color: #3B4455;\n",
              "      fill: #D2E3FC;\n",
              "    }\n",
              "\n",
              "    [theme=dark] .colab-df-convert:hover {\n",
              "      background-color: #434B5C;\n",
              "      box-shadow: 0px 1px 3px 1px rgba(0, 0, 0, 0.15);\n",
              "      filter: drop-shadow(0px 1px 2px rgba(0, 0, 0, 0.3));\n",
              "      fill: #FFFFFF;\n",
              "    }\n",
              "  </style>\n",
              "\n",
              "    <script>\n",
              "      const buttonEl =\n",
              "        document.querySelector('#df-6f1d1eb7-e084-4bbd-9fa3-45032904e746 button.colab-df-convert');\n",
              "      buttonEl.style.display =\n",
              "        google.colab.kernel.accessAllowed ? 'block' : 'none';\n",
              "\n",
              "      async function convertToInteractive(key) {\n",
              "        const element = document.querySelector('#df-6f1d1eb7-e084-4bbd-9fa3-45032904e746');\n",
              "        const dataTable =\n",
              "          await google.colab.kernel.invokeFunction('convertToInteractive',\n",
              "                                                    [key], {});\n",
              "        if (!dataTable) return;\n",
              "\n",
              "        const docLinkHtml = 'Like what you see? Visit the ' +\n",
              "          '<a target=\"_blank\" href=https://colab.research.google.com/notebooks/data_table.ipynb>data table notebook</a>'\n",
              "          + ' to learn more about interactive tables.';\n",
              "        element.innerHTML = '';\n",
              "        dataTable['output_type'] = 'display_data';\n",
              "        await google.colab.output.renderOutput(dataTable, element);\n",
              "        const docLink = document.createElement('div');\n",
              "        docLink.innerHTML = docLinkHtml;\n",
              "        element.appendChild(docLink);\n",
              "      }\n",
              "    </script>\n",
              "  </div>\n",
              "\n",
              "\n",
              "<div id=\"df-658ee830-8b55-4224-8b97-90f93a4ff899\">\n",
              "  <button class=\"colab-df-quickchart\" onclick=\"quickchart('df-658ee830-8b55-4224-8b97-90f93a4ff899')\"\n",
              "            title=\"Suggest charts\"\n",
              "            style=\"display:none;\">\n",
              "\n",
              "<svg xmlns=\"http://www.w3.org/2000/svg\" height=\"24px\"viewBox=\"0 0 24 24\"\n",
              "     width=\"24px\">\n",
              "    <g>\n",
              "        <path d=\"M19 3H5c-1.1 0-2 .9-2 2v14c0 1.1.9 2 2 2h14c1.1 0 2-.9 2-2V5c0-1.1-.9-2-2-2zM9 17H7v-7h2v7zm4 0h-2V7h2v10zm4 0h-2v-4h2v4z\"/>\n",
              "    </g>\n",
              "</svg>\n",
              "  </button>\n",
              "\n",
              "<style>\n",
              "  .colab-df-quickchart {\n",
              "      --bg-color: #E8F0FE;\n",
              "      --fill-color: #1967D2;\n",
              "      --hover-bg-color: #E2EBFA;\n",
              "      --hover-fill-color: #174EA6;\n",
              "      --disabled-fill-color: #AAA;\n",
              "      --disabled-bg-color: #DDD;\n",
              "  }\n",
              "\n",
              "  [theme=dark] .colab-df-quickchart {\n",
              "      --bg-color: #3B4455;\n",
              "      --fill-color: #D2E3FC;\n",
              "      --hover-bg-color: #434B5C;\n",
              "      --hover-fill-color: #FFFFFF;\n",
              "      --disabled-bg-color: #3B4455;\n",
              "      --disabled-fill-color: #666;\n",
              "  }\n",
              "\n",
              "  .colab-df-quickchart {\n",
              "    background-color: var(--bg-color);\n",
              "    border: none;\n",
              "    border-radius: 50%;\n",
              "    cursor: pointer;\n",
              "    display: none;\n",
              "    fill: var(--fill-color);\n",
              "    height: 32px;\n",
              "    padding: 0;\n",
              "    width: 32px;\n",
              "  }\n",
              "\n",
              "  .colab-df-quickchart:hover {\n",
              "    background-color: var(--hover-bg-color);\n",
              "    box-shadow: 0 1px 2px rgba(60, 64, 67, 0.3), 0 1px 3px 1px rgba(60, 64, 67, 0.15);\n",
              "    fill: var(--button-hover-fill-color);\n",
              "  }\n",
              "\n",
              "  .colab-df-quickchart-complete:disabled,\n",
              "  .colab-df-quickchart-complete:disabled:hover {\n",
              "    background-color: var(--disabled-bg-color);\n",
              "    fill: var(--disabled-fill-color);\n",
              "    box-shadow: none;\n",
              "  }\n",
              "\n",
              "  .colab-df-spinner {\n",
              "    border: 2px solid var(--fill-color);\n",
              "    border-color: transparent;\n",
              "    border-bottom-color: var(--fill-color);\n",
              "    animation:\n",
              "      spin 1s steps(1) infinite;\n",
              "  }\n",
              "\n",
              "  @keyframes spin {\n",
              "    0% {\n",
              "      border-color: transparent;\n",
              "      border-bottom-color: var(--fill-color);\n",
              "      border-left-color: var(--fill-color);\n",
              "    }\n",
              "    20% {\n",
              "      border-color: transparent;\n",
              "      border-left-color: var(--fill-color);\n",
              "      border-top-color: var(--fill-color);\n",
              "    }\n",
              "    30% {\n",
              "      border-color: transparent;\n",
              "      border-left-color: var(--fill-color);\n",
              "      border-top-color: var(--fill-color);\n",
              "      border-right-color: var(--fill-color);\n",
              "    }\n",
              "    40% {\n",
              "      border-color: transparent;\n",
              "      border-right-color: var(--fill-color);\n",
              "      border-top-color: var(--fill-color);\n",
              "    }\n",
              "    60% {\n",
              "      border-color: transparent;\n",
              "      border-right-color: var(--fill-color);\n",
              "    }\n",
              "    80% {\n",
              "      border-color: transparent;\n",
              "      border-right-color: var(--fill-color);\n",
              "      border-bottom-color: var(--fill-color);\n",
              "    }\n",
              "    90% {\n",
              "      border-color: transparent;\n",
              "      border-bottom-color: var(--fill-color);\n",
              "    }\n",
              "  }\n",
              "</style>\n",
              "\n",
              "  <script>\n",
              "    async function quickchart(key) {\n",
              "      const quickchartButtonEl =\n",
              "        document.querySelector('#' + key + ' button');\n",
              "      quickchartButtonEl.disabled = true;  // To prevent multiple clicks.\n",
              "      quickchartButtonEl.classList.add('colab-df-spinner');\n",
              "      try {\n",
              "        const charts = await google.colab.kernel.invokeFunction(\n",
              "            'suggestCharts', [key], {});\n",
              "      } catch (error) {\n",
              "        console.error('Error during call to suggestCharts:', error);\n",
              "      }\n",
              "      quickchartButtonEl.classList.remove('colab-df-spinner');\n",
              "      quickchartButtonEl.classList.add('colab-df-quickchart-complete');\n",
              "    }\n",
              "    (() => {\n",
              "      let quickchartButtonEl =\n",
              "        document.querySelector('#df-658ee830-8b55-4224-8b97-90f93a4ff899 button');\n",
              "      quickchartButtonEl.style.display =\n",
              "        google.colab.kernel.accessAllowed ? 'block' : 'none';\n",
              "    })();\n",
              "  </script>\n",
              "</div>\n",
              "\n",
              "    </div>\n",
              "  </div>\n"
            ],
            "application/vnd.google.colaboratory.intrinsic+json": {
              "type": "dataframe",
              "variable_name": "data",
              "summary": "{\n  \"name\": \"data\",\n  \"rows\": 5572,\n  \"fields\": [\n    {\n      \"column\": \"Category\",\n      \"properties\": {\n        \"dtype\": \"number\",\n        \"std\": 0,\n        \"min\": 0,\n        \"max\": 1,\n        \"num_unique_values\": 2,\n        \"samples\": [\n          1,\n          0\n        ],\n        \"semantic_type\": \"\",\n        \"description\": \"\"\n      }\n    },\n    {\n      \"column\": \"Message\",\n      \"properties\": {\n        \"dtype\": \"string\",\n        \"num_unique_values\": 5157,\n        \"samples\": [\n          \"Also sir, i sent you an email about how to log into the usc payment portal. I.ll send you another message that should explain how things are back home. Have a great weekend.\",\n          \"Are you free now?can i call now?\"\n        ],\n        \"semantic_type\": \"\",\n        \"description\": \"\"\n      }\n    }\n  ]\n}"
            }
          },
          "metadata": {},
          "execution_count": 207
        }
      ]
    },
    {
      "cell_type": "code",
      "source": [
        "ham=data[data['Category']==0]\n",
        "spam=data[data['Category']==1]\n",
        "print(ham.shape)\n",
        "print(spam.shape)"
      ],
      "metadata": {
        "colab": {
          "base_uri": "https://localhost:8080/"
        },
        "id": "gpJi80gfQ72K",
        "outputId": "b5a5418e-520e-48c1-d5b7-c4101675d429"
      },
      "execution_count": null,
      "outputs": [
        {
          "output_type": "stream",
          "name": "stdout",
          "text": [
            "(4825, 2)\n",
            "(747, 2)\n"
          ]
        }
      ]
    },
    {
      "cell_type": "code",
      "source": [
        "spam1= spam.sample(4825, replace=True)\n",
        "new_data= pd.concat([spam1, ham], axis=0)\n",
        "print(new_data['Category'].value_counts())"
      ],
      "metadata": {
        "colab": {
          "base_uri": "https://localhost:8080/"
        },
        "id": "gA_Hv3rTRO9x",
        "outputId": "1d191267-bd49-4839-95a7-669dc3815683"
      },
      "execution_count": null,
      "outputs": [
        {
          "output_type": "stream",
          "name": "stdout",
          "text": [
            "Category\n",
            "1    4825\n",
            "0    4825\n",
            "Name: count, dtype: int64\n"
          ]
        }
      ]
    },
    {
      "cell_type": "code",
      "source": [
        "new_data.reset_index(drop=True,inplace=True)"
      ],
      "metadata": {
        "id": "rayjH2zGTTI1"
      },
      "execution_count": null,
      "outputs": []
    },
    {
      "cell_type": "code",
      "source": [
        "new_data['Category'].value_counts().plot(kind='pie')"
      ],
      "metadata": {
        "colab": {
          "base_uri": "https://localhost:8080/",
          "height": 423
        },
        "id": "MpGddF91TzXv",
        "outputId": "295534f9-94a3-4232-bcf9-d29385f843bf"
      },
      "execution_count": null,
      "outputs": [
        {
          "output_type": "execute_result",
          "data": {
            "text/plain": [
              "<Axes: ylabel='count'>"
            ]
          },
          "metadata": {},
          "execution_count": 211
        },
        {
          "output_type": "display_data",
          "data": {
            "text/plain": [
              "<Figure size 640x480 with 1 Axes>"
            ],
            "image/png": "[encoded data removed]"
          },
          "metadata": {}
        }
      ]
    },
    {
      "cell_type": "code",
      "source": [
        "tweets=new_data['Message']\n",
        "tweets"
      ],
      "metadata": {
        "colab": {
          "base_uri": "https://localhost:8080/"
        },
        "id": "nLlIY75GT_Wz",
        "outputId": "033476ab-d7cb-42df-c7de-504a6ae2e4b9"
      },
      "execution_count": null,
      "outputs": [
        {
          "output_type": "execute_result",
          "data": {
            "text/plain": [
              "0       FREE for 1st week! No1 Nokia tone 4 ur mob eve...\n",
              "1       URGENT! Your mobile No 07xxxxxxxxx won a £2,00...\n",
              "2       Want to funk up ur fone with a weekly new tone...\n",
              "3       Guess who am I?This is the first time I create...\n",
              "4       Sunshine Quiz! Win a super Sony DVD recorder i...\n",
              "                              ...                        \n",
              "9645                                         Huh y lei...\n",
              "9646                 Will ü b going to esplanade fr home?\n",
              "9647    Pity, * was in mood for that. So...any other s...\n",
              "9648    The guy did some bitching but I acted like i'd...\n",
              "9649                           Rofl. Its true to its name\n",
              "Name: Message, Length: 9650, dtype: object"
            ]
          },
          "metadata": {},
          "execution_count": 212
        }
      ]
    },
    {
      "cell_type": "code",
      "source": [
        "nltk.download('stopwords')\n",
        "nltk.download('punkt')\n",
        "nltk.download('wordnet')\n",
        "nltk.download('omw-1.4')"
      ],
      "metadata": {
        "colab": {
          "base_uri": "https://localhost:8080/"
        },
        "id": "NwQ2ie1wUfaJ",
        "outputId": "1b104375-add8-4460-cc7b-061ebc51967c"
      },
      "execution_count": null,
      "outputs": [
        {
          "output_type": "stream",
          "name": "stderr",
          "text": [
            "[nltk_data] Downloading package stopwords to /root/nltk_data...\n",
            "[nltk_data]   Package stopwords is already up-to-date!\n",
            "[nltk_data] Downloading package punkt to /root/nltk_data...\n",
            "[nltk_data]   Package punkt is already up-to-date!\n",
            "[nltk_data] Downloading package wordnet to /root/nltk_data...\n",
            "[nltk_data]   Package wordnet is already up-to-date!\n",
            "[nltk_data] Downloading package omw-1.4 to /root/nltk_data...\n",
            "[nltk_data]   Package omw-1.4 is already up-to-date!\n"
          ]
        },
        {
          "output_type": "execute_result",
          "data": {
            "text/plain": [
              "True"
            ]
          },
          "metadata": {},
          "execution_count": 213
        }
      ]
    },
    {
      "cell_type": "code",
      "source": [
        "#splitting into tokens(tokenization)\n",
        "from nltk import TweetTokenizer\n",
        "tokens=TweetTokenizer()\n",
        "tweets=tweets.apply(lambda x:tokens.tokenize(x)).apply(lambda x:' '.join(x))\n",
        "tweets"
      ],
      "metadata": {
        "colab": {
          "base_uri": "https://localhost:8080/"
        },
        "id": "lZHWxoj_U6NY",
        "outputId": "628057d3-f16d-4856-d180-8110709d6967"
      },
      "execution_count": null,
      "outputs": [
        {
          "output_type": "execute_result",
          "data": {
            "text/plain": [
              "0       FREE for 1st week ! No1 Nokia tone 4 ur mob ev...\n",
              "1       URGENT ! Your mobile No 07xxxxxxxxx won a £ 2,...\n",
              "2       Want to funk up ur fone with a weekly new tone...\n",
              "3       Guess who am I ? This is the first time I crea...\n",
              "4       Sunshine Quiz ! Win a super Sony DVD recorder ...\n",
              "                              ...                        \n",
              "9645                                        Huh y lei ...\n",
              "9646                Will ü b going to esplanade fr home ?\n",
              "9647    Pity , * was in mood for that . So ... any oth...\n",
              "9648    The guy did some bitching but I acted like i'd...\n",
              "9649                          Rofl . Its true to its name\n",
              "Name: Message, Length: 9650, dtype: object"
            ]
          },
          "metadata": {},
          "execution_count": 214
        }
      ]
    },
    {
      "cell_type": "code",
      "source": [
        "#by substitution method replacing regular expression with ''\n",
        "tweets=tweets.str.replace('[^a-zA-z0-9]+','')"
      ],
      "metadata": {
        "id": "9JHVDWhSVvFo"
      },
      "execution_count": null,
      "outputs": []
    },
    {
      "cell_type": "code",
      "source": [
        "#removing words which has length less than 3\n",
        "from nltk import word_tokenize\n",
        "tweets=tweets.apply(lambda x:[i for i in word_tokenize(x) if len(i)>=3]).apply(lambda x:' '.join(x))\n",
        "tweets"
      ],
      "metadata": {
        "colab": {
          "base_uri": "https://localhost:8080/"
        },
        "id": "neYBcdBOWdFK",
        "outputId": "05a40e4e-a083-4793-8893-b464dff1125e"
      },
      "execution_count": null,
      "outputs": [
        {
          "output_type": "execute_result",
          "data": {
            "text/plain": [
              "0       FREE for 1st week No1 Nokia tone mob every wee...\n",
              "1       URGENT Your mobile 07xxxxxxxxx won 2,000 bonus...\n",
              "2       Want funk fone with weekly new tone reply TONE...\n",
              "3       Guess who This the first time created web page...\n",
              "4       Sunshine Quiz Win super Sony DVD recorder you ...\n",
              "                              ...                        \n",
              "9645                                          Huh lei ...\n",
              "9646                            Will going esplanade home\n",
              "9647     Pity was mood for that ... any other suggestions\n",
              "9648    The guy did some bitching but acted like inter...\n",
              "9649                               Rofl Its true its name\n",
              "Name: Message, Length: 9650, dtype: object"
            ]
          },
          "metadata": {},
          "execution_count": 216
        }
      ]
    },
    {
      "cell_type": "code",
      "source": [
        "#stemming\n",
        "from nltk.stem import SnowballStemmer\n",
        "stemmer=SnowballStemmer('english')\n",
        "tweets=tweets.apply(lambda x:[stemmer.stem(i.lower()) for i in tokens.tokenize(x)]).apply(lambda x:' '.join(x))\n",
        "tweets"
      ],
      "metadata": {
        "colab": {
          "base_uri": "https://localhost:8080/"
        },
        "id": "vcon4ADUXkVO",
        "outputId": "3a2718e9-d10e-42e9-c4d9-a06bf6159d12"
      },
      "execution_count": null,
      "outputs": [
        {
          "output_type": "execute_result",
          "data": {
            "text/plain": [
              "0       free for 1st week no1 nokia tone mob everi wee...\n",
              "1       urgent your mobil 07xxxxxxxxx won 2,000 bonus ...\n",
              "2       want funk fone with week new tone repli tone t...\n",
              "3       guess who this the first time creat web page w...\n",
              "4       sunshin quiz win super soni dvd record you can...\n",
              "                              ...                        \n",
              "9645                                          huh lei ...\n",
              "9646                                will go esplanad home\n",
              "9647         piti was mood for that ... ani other suggest\n",
              "9648    the guy did some bitch but act like interest b...\n",
              "9649                                 rofl it true it name\n",
              "Name: Message, Length: 9650, dtype: object"
            ]
          },
          "metadata": {},
          "execution_count": 217
        }
      ]
    },
    {
      "cell_type": "code",
      "source": [
        "#removing stopwords\n",
        "from nltk.corpus import stopwords\n",
        "sw=stopwords.words('english')\n",
        "tweets=tweets.apply(lambda x:[i for i in tokens.tokenize(x) if i not in sw]).apply(lambda x:' '.join(x))\n",
        "tweets"
      ],
      "metadata": {
        "colab": {
          "base_uri": "https://localhost:8080/"
        },
        "id": "3KmtgR7xYicx",
        "outputId": "44d6e620-7345-47ee-c486-c2c95ed997d6"
      },
      "execution_count": null,
      "outputs": [
        {
          "output_type": "execute_result",
          "data": {
            "text/plain": [
              "0       free 1st week no1 nokia tone mob everi week tx...\n",
              "1       urgent mobil 07xxxxxxxxx 2,000 bonus caller pr...\n",
              "2       want funk fone week new tone repli tone text w...\n",
              "3       guess first time creat web page www.asjesus.co...\n",
              "4       sunshin quiz win super soni dvd record cannam ...\n",
              "                              ...                        \n",
              "9645                                          huh lei ...\n",
              "9646                                     go esplanad home\n",
              "9647                            piti mood ... ani suggest\n",
              "9648    guy bitch act like interest buy someth els nex...\n",
              "9649                                       rofl true name\n",
              "Name: Message, Length: 9650, dtype: object"
            ]
          },
          "metadata": {},
          "execution_count": 218
        }
      ]
    },
    {
      "cell_type": "code",
      "source": [
        "#vectorization\n",
        "from sklearn.feature_extraction.text import TfidfVectorizer\n",
        "vectors=TfidfVectorizer()\n",
        "Text=vectors.fit_transform(tweets)\n",
        "print(Text.shape)\n",
        "print(Text)"
      ],
      "metadata": {
        "colab": {
          "base_uri": "https://localhost:8080/"
        },
        "id": "ZUF_WB4XZg6V",
        "outputId": "15606bcc-e721-410f-c4d4-65ce3fa3c270"
      },
      "execution_count": null,
      "outputs": [
        {
          "output_type": "stream",
          "name": "stdout",
          "text": [
            "(9650, 7082)\n",
            "  (0, 352)\t0.14166639909885148\n",
            "  (0, 4474)\t0.23029227554936377\n",
            "  (0, 6724)\t0.24196815916305928\n",
            "  (0, 529)\t0.23606508832450862\n",
            "  (0, 4892)\t0.16896520939087395\n",
            "  (0, 6524)\t0.1619860237526078\n",
            "  (0, 1857)\t0.1662085089985246\n",
            "  (0, 2956)\t0.22413926503684156\n",
            "  (0, 6978)\t0.13900330189000784\n",
            "  (0, 4073)\t0.20747161039367643\n",
            "  (0, 6189)\t0.17396584727381778\n",
            "  (0, 6503)\t0.2193520132325092\n",
            "  (0, 2950)\t0.12547126627345848\n",
            "  (0, 739)\t0.2129426555772707\n",
            "  (0, 6497)\t0.12264949348337541\n",
            "  (0, 2558)\t0.17194107549846524\n",
            "  (0, 4215)\t0.19216628552909906\n",
            "  (0, 6381)\t0.32638479323145814\n",
            "  (0, 4460)\t0.3179603822541501\n",
            "  (0, 4451)\t0.22962944133475907\n",
            "  (0, 6800)\t0.2958676809602843\n",
            "  (0, 395)\t0.18783603285493278\n",
            "  (0, 2832)\t0.11586577410176004\n",
            "  (1, 356)\t0.20267617830389095\n",
            "  (1, 840)\t0.3138887839963053\n",
            "  :\t:\n",
            "  (9644, 2950)\t0.2124275563370244\n",
            "  (9645, 3810)\t0.7003917983833767\n",
            "  (9645, 3326)\t0.7137585927730042\n",
            "  (9646, 2538)\t0.7736508162423571\n",
            "  (9646, 2987)\t0.445569719800569\n",
            "  (9646, 3265)\t0.450479787919921\n",
            "  (9647, 4854)\t0.6059280348555294\n",
            "  (9647, 4250)\t0.5098096615785536\n",
            "  (9647, 6032)\t0.5357209921360508\n",
            "  (9647, 1058)\t0.29316948020222433\n",
            "  (9648, 904)\t0.39325727809900946\n",
            "  (9648, 2924)\t0.3648228649233861\n",
            "  (9648, 5785)\t0.2786844310358833\n",
            "  (9648, 2467)\t0.32269956166625746\n",
            "  (9648, 1427)\t0.3502731991093881\n",
            "  (9648, 3477)\t0.3344889630654867\n",
            "  (9648, 3105)\t0.2608106974830507\n",
            "  (9648, 1609)\t0.26518898849127437\n",
            "  (9648, 4419)\t0.24257050596886628\n",
            "  (9648, 3843)\t0.20805123435962175\n",
            "  (9648, 6800)\t0.18531041798610598\n",
            "  (9648, 2832)\t0.14514011776746275\n",
            "  (9649, 5342)\t0.7391966602224473\n",
            "  (9649, 6462)\t0.5059961041342416\n",
            "  (9649, 4343)\t0.44447299143699315\n"
          ]
        }
      ]
    },
    {
      "cell_type": "code",
      "source": [
        "x=Text\n",
        "print(x.shape)"
      ],
      "metadata": {
        "colab": {
          "base_uri": "https://localhost:8080/"
        },
        "id": "IMHbBje5breZ",
        "outputId": "5f300890-f02f-4e33-9db4-238bf0c52e6a"
      },
      "execution_count": null,
      "outputs": [
        {
          "output_type": "stream",
          "name": "stdout",
          "text": [
            "(9650, 7082)\n"
          ]
        }
      ]
    },
    {
      "cell_type": "code",
      "source": [
        "y=new_data['Category'].values\n",
        "print(y.shape)"
      ],
      "metadata": {
        "colab": {
          "base_uri": "https://localhost:8080/"
        },
        "id": "TR4RKGr2cFnJ",
        "outputId": "e3f9d468-fbc3-4749-f3c2-886247f8ba03"
      },
      "execution_count": null,
      "outputs": [
        {
          "output_type": "stream",
          "name": "stdout",
          "text": [
            "(9650,)\n"
          ]
        }
      ]
    },
    {
      "cell_type": "code",
      "source": [
        "from sklearn.model_selection import train_test_split\n",
        "x_train,x_test,y_train,y_test=train_test_split(x,y,test_size=0.30,random_state=42)"
      ],
      "metadata": {
        "id": "oDkl1-cScJOH"
      },
      "execution_count": null,
      "outputs": []
    },
    {
      "cell_type": "code",
      "source": [
        "print(x_train.shape)\n",
        "print(x_train)"
      ],
      "metadata": {
        "colab": {
          "base_uri": "https://localhost:8080/"
        },
        "id": "VEgHU5giccJB",
        "outputId": "0d0adc21-ba7b-406b-fedc-09cb7ef4bdd9"
      },
      "execution_count": null,
      "outputs": [
        {
          "output_type": "stream",
          "name": "stdout",
          "text": [
            "(6755, 7082)\n",
            "  (0, 76)\t0.38973013910356336\n",
            "  (0, 3038)\t0.28346382942790677\n",
            "  (0, 4621)\t0.26083189306883453\n",
            "  (0, 4277)\t0.1911227436342799\n",
            "  (0, 630)\t0.19069227560431176\n",
            "  (0, 6399)\t0.2589340697634546\n",
            "  (0, 4783)\t0.21123317528865362\n",
            "  (0, 4824)\t0.18778569076115875\n",
            "  (0, 5962)\t0.16774340856192219\n",
            "  (0, 5519)\t0.17594575915914965\n",
            "  (0, 5323)\t0.22021194549327797\n",
            "  (0, 5266)\t0.1718421155195503\n",
            "  (0, 2950)\t0.15576282247591355\n",
            "  (0, 2558)\t0.21345147789307375\n",
            "  (0, 6381)\t0.4051813464299395\n",
            "  (0, 6800)\t0.18364836202950482\n",
            "  (0, 395)\t0.23318383171806578\n",
            "  (0, 2832)\t0.14383835071141257\n",
            "  (1, 1670)\t0.2985570780125871\n",
            "  (1, 5053)\t0.40243697867110917\n",
            "  (1, 2200)\t0.32508763323222556\n",
            "  (1, 4800)\t0.31603347293255263\n",
            "  (1, 2502)\t0.2999798022753362\n",
            "  (1, 632)\t0.2767845263490112\n",
            "  (1, 256)\t0.4055947565372604\n",
            "  :\t:\n",
            "  (6751, 1609)\t0.17457913530063987\n",
            "  (6751, 6600)\t0.26370211681209765\n",
            "  (6752, 4716)\t0.5321107330740167\n",
            "  (6752, 3785)\t0.2963448173598043\n",
            "  (6752, 5487)\t0.2561021476334237\n",
            "  (6752, 5339)\t0.5122042952668474\n",
            "  (6752, 2512)\t0.5214441284616333\n",
            "  (6752, 6933)\t0.1708577997986772\n",
            "  (6753, 3225)\t0.24037044193882964\n",
            "  (6753, 541)\t0.2493627793523122\n",
            "  (6753, 3367)\t0.2493627793523122\n",
            "  (6753, 3398)\t0.2493627793523122\n",
            "  (6753, 3695)\t0.2493627793523122\n",
            "  (6753, 6561)\t0.2460694309042177\n",
            "  (6753, 861)\t0.2493627793523122\n",
            "  (6753, 5340)\t0.2493627793523122\n",
            "  (6753, 1443)\t0.4987255587046244\n",
            "  (6753, 1747)\t0.18068215353432487\n",
            "  (6753, 2117)\t0.3121434676724867\n",
            "  (6753, 3319)\t0.16565497542245777\n",
            "  (6753, 5743)\t0.29721772990307677\n",
            "  (6753, 5519)\t0.11829790228971586\n",
            "  (6754, 5644)\t0.7333409853132693\n",
            "  (6754, 5951)\t0.4593693433402633\n",
            "  (6754, 5611)\t0.5011893910079287\n"
          ]
        }
      ]
    },
    {
      "cell_type": "code",
      "source": [
        "print(x_test.shape)\n",
        "print(x_test)"
      ],
      "metadata": {
        "colab": {
          "base_uri": "https://localhost:8080/"
        },
        "id": "BeOP5jkacozf",
        "outputId": "e702669a-9719-4f7c-955e-20669674f0b6"
      },
      "execution_count": null,
      "outputs": [
        {
          "output_type": "stream",
          "name": "stdout",
          "text": [
            "(2895, 7082)\n",
            "  (0, 107)\t0.37624114059460445\n",
            "  (0, 4359)\t0.3002931935521676\n",
            "  (0, 2414)\t0.2637519681307391\n",
            "  (0, 3008)\t0.20985495824193745\n",
            "  (0, 1570)\t0.2866403344130424\n",
            "  (0, 6232)\t0.23311282924695242\n",
            "  (0, 4177)\t0.25658765200739825\n",
            "  (0, 1940)\t0.2686487096951405\n",
            "  (0, 6988)\t0.25614711734210416\n",
            "  (0, 306)\t0.23311282924695242\n",
            "  (0, 4783)\t0.21116885660362256\n",
            "  (0, 4597)\t0.17309294352540394\n",
            "  (0, 1816)\t0.17164722636281088\n",
            "  (0, 2851)\t0.23127973297268203\n",
            "  (0, 1632)\t0.11117117762588047\n",
            "  (0, 5024)\t0.18518392346704568\n",
            "  (0, 1)\t0.2367217386641561\n",
            "  (1, 155)\t0.4726231908614792\n",
            "  (1, 4982)\t0.43733439107891037\n",
            "  (1, 813)\t0.4726231908614792\n",
            "  (1, 809)\t0.4726231908614792\n",
            "  (1, 4824)\t0.2425035492600967\n",
            "  (1, 5539)\t0.2432883545248581\n",
            "  (1, 1632)\t0.1436084743607535\n",
            "  (2, 378)\t0.2585743110621518\n",
            "  :\t:\n",
            "  (2893, 340)\t0.2677753081578066\n",
            "  (2893, 6498)\t0.28333808002353134\n",
            "  (2893, 470)\t0.28333808002353134\n",
            "  (2893, 4138)\t0.28333808002353134\n",
            "  (2893, 5256)\t0.21926857274120068\n",
            "  (2893, 6614)\t0.1801888932582319\n",
            "  (2893, 2838)\t0.19075655026920055\n",
            "  (2893, 776)\t0.24895669097320824\n",
            "  (2893, 2543)\t0.22164413835809713\n",
            "  (2893, 3597)\t0.18169710710807646\n",
            "  (2893, 630)\t0.1412324054789022\n",
            "  (2893, 435)\t0.18381667121530024\n",
            "  (2893, 5743)\t0.1636996427778735\n",
            "  (2893, 5962)\t0.12423578783856555\n",
            "  (2893, 1816)\t0.12716579300771105\n",
            "  (2893, 1885)\t0.14509014400185938\n",
            "  (2893, 6788)\t0.24895669097320824\n",
            "  (2893, 6220)\t0.1153626072830769\n",
            "  (2893, 1503)\t0.14482494080808586\n",
            "  (2893, 4073)\t0.19075655026920055\n",
            "  (2894, 4960)\t0.5674502811808816\n",
            "  (2894, 1964)\t0.43869631534736814\n",
            "  (2894, 1259)\t0.452970126186459\n",
            "  (2894, 4024)\t0.3417237334829037\n",
            "  (2894, 2884)\t0.4044609697430764\n"
          ]
        }
      ]
    },
    {
      "cell_type": "code",
      "source": [
        "print(y_train.shape)\n",
        "print(y_train)"
      ],
      "metadata": {
        "colab": {
          "base_uri": "https://localhost:8080/"
        },
        "id": "aSh8gUYXcsGx",
        "outputId": "622a0801-28f7-4799-c925-3f21a49e6b58"
      },
      "execution_count": null,
      "outputs": [
        {
          "output_type": "stream",
          "name": "stdout",
          "text": [
            "(6755,)\n",
            "[1 1 1 ... 0 1 0]\n"
          ]
        }
      ]
    },
    {
      "cell_type": "code",
      "source": [
        "print(y_test.shape)\n",
        "print(y_test)"
      ],
      "metadata": {
        "colab": {
          "base_uri": "https://localhost:8080/"
        },
        "id": "aYIBum-jcu5X",
        "outputId": "1a238719-964e-43ec-af50-f8d97d0a2c0f"
      },
      "execution_count": null,
      "outputs": [
        {
          "output_type": "stream",
          "name": "stdout",
          "text": [
            "(2895,)\n",
            "[1 1 1 ... 1 1 0]\n"
          ]
        }
      ]
    },
    {
      "cell_type": "code",
      "source": [
        "from sklearn.linear_model import LogisticRegression\n",
        "from sklearn.metrics import classification_report\n",
        "l_model=LogisticRegression()\n",
        "l_model.fit(x_train,y_train)\n",
        "y_pred=l_model.predict(x_test)\n",
        "print(classification_report(y_test,y_pred))"
      ],
      "metadata": {
        "colab": {
          "base_uri": "https://localhost:8080/"
        },
        "id": "UU4kswU1furn",
        "outputId": "8c07fe8e-350f-472e-a807-753270a41d24"
      },
      "execution_count": null,
      "outputs": [
        {
          "output_type": "stream",
          "name": "stdout",
          "text": [
            "              precision    recall  f1-score   support\n",
            "\n",
            "           0       0.99      0.99      0.99      1433\n",
            "           1       0.99      0.99      0.99      1462\n",
            "\n",
            "    accuracy                           0.99      2895\n",
            "   macro avg       0.99      0.99      0.99      2895\n",
            "weighted avg       0.99      0.99      0.99      2895\n",
            "\n"
          ]
        }
      ]
    },
    {
      "cell_type": "code",
      "source": [
        "from sklearn.ensemble import RandomForestClassifier\n",
        "r_model=RandomForestClassifier()\n",
        "r_model.fit(x_train,y_train)\n",
        "y_pred=r_model.predict(x_test)\n",
        "print(classification_report(y_test,y_pred))"
      ],
      "metadata": {
        "colab": {
          "base_uri": "https://localhost:8080/"
        },
        "id": "4Plgz1W1fCNC",
        "outputId": "15d3424e-bf7a-41bd-fdbd-1e22af7c3159"
      },
      "execution_count": null,
      "outputs": [
        {
          "output_type": "stream",
          "name": "stdout",
          "text": [
            "              precision    recall  f1-score   support\n",
            "\n",
            "           0       1.00      1.00      1.00      1433\n",
            "           1       1.00      1.00      1.00      1462\n",
            "\n",
            "    accuracy                           1.00      2895\n",
            "   macro avg       1.00      1.00      1.00      2895\n",
            "weighted avg       1.00      1.00      1.00      2895\n",
            "\n"
          ]
        }
      ]
    },
    {
      "cell_type": "code",
      "source": [
        "from sklearn.neighbors import KNeighborsClassifier\n",
        "# Hyper Parameter Tuning\n",
        "from sklearn.model_selection import GridSearchCV\n",
        "clf=KNeighborsClassifier()\n",
        "pmtr={'n_neighbors':[3,5,7,9,11],'weights':['uniform','distance']}\n",
        "gd=GridSearchCV(clf,pmtr,cv=10,scoring='accuracy')  # CV = CrossValidation\n",
        "gd.fit(x_train,y_train)"
      ],
      "metadata": {
        "colab": {
          "base_uri": "https://localhost:8080/",
          "height": 117
        },
        "id": "D2fCpqJXc4Kf",
        "outputId": "2f6eb9ba-98f1-4337-9eb4-bcd3418505f7"
      },
      "execution_count": null,
      "outputs": [
        {
          "output_type": "execute_result",
          "data": {
            "text/plain": [
              "GridSearchCV(cv=10, estimator=KNeighborsClassifier(),\n",
              "             param_grid={'n_neighbors': [3, 5, 7, 9, 11],\n",
              "                         'weights': ['uniform', 'distance']},\n",
              "             scoring='accuracy')"
            ],
            "text/html": [
              "<style>#sk-container-id-3 {color: black;background-color: white;}#sk-container-id-3 pre{padding: 0;}#sk-container-id-3 div.sk-toggleable {background-color: white;}#sk-container-id-3 label.sk-toggleable__label {cursor: pointer;display: block;width: 100%;margin-bottom: 0;padding: 0.3em;box-sizing: border-box;text-align: center;}#sk-container-id-3 label.sk-toggleable__label-arrow:before {content: \"▸\";float: left;margin-right: 0.25em;color: #696969;}#sk-container-id-3 label.sk-toggleable__label-arrow:hover:before {color: black;}#sk-container-id-3 div.sk-estimator:hover label.sk-toggleable__label-arrow:before {color: black;}#sk-container-id-3 div.sk-toggleable__content {max-height: 0;max-width: 0;overflow: hidden;text-align: left;background-color: #f0f8ff;}#sk-container-id-3 div.sk-toggleable__content pre {margin: 0.2em;color: black;border-radius: 0.25em;background-color: #f0f8ff;}#sk-container-id-3 input.sk-toggleable__control:checked~div.sk-toggleable__content {max-height: 200px;max-width: 100%;overflow: auto;}#sk-container-id-3 input.sk-toggleable__control:checked~label.sk-toggleable__label-arrow:before {content: \"▾\";}#sk-container-id-3 div.sk-estimator input.sk-toggleable__control:checked~label.sk-toggleable__label {background-color: #d4ebff;}#sk-container-id-3 div.sk-label input.sk-toggleable__control:checked~label.sk-toggleable__label {background-color: #d4ebff;}#sk-container-id-3 input.sk-hidden--visually {border: 0;clip: rect(1px 1px 1px 1px);clip: rect(1px, 1px, 1px, 1px);height: 1px;margin: -1px;overflow: hidden;padding: 0;position: absolute;width: 1px;}#sk-container-id-3 div.sk-estimator {font-family: monospace;background-color: #f0f8ff;border: 1px dotted black;border-radius: 0.25em;box-sizing: border-box;margin-bottom: 0.5em;}#sk-container-id-3 div.sk-estimator:hover {background-color: #d4ebff;}#sk-container-id-3 div.sk-parallel-item::after {content: \"\";width: 100%;border-bottom: 1px solid gray;flex-grow: 1;}#sk-container-id-3 div.sk-label:hover label.sk-toggleable__label {background-color: #d4ebff;}#sk-container-id-3 div.sk-serial::before {content: \"\";position: absolute;border-left: 1px solid gray;box-sizing: border-box;top: 0;bottom: 0;left: 50%;z-index: 0;}#sk-container-id-3 div.sk-serial {display: flex;flex-direction: column;align-items: center;background-color: white;padding-right: 0.2em;padding-left: 0.2em;position: relative;}#sk-container-id-3 div.sk-item {position: relative;z-index: 1;}#sk-container-id-3 div.sk-parallel {display: flex;align-items: stretch;justify-content: center;background-color: white;position: relative;}#sk-container-id-3 div.sk-item::before, #sk-container-id-3 div.sk-parallel-item::before {content: \"\";position: absolute;border-left: 1px solid gray;box-sizing: border-box;top: 0;bottom: 0;left: 50%;z-index: -1;}#sk-container-id-3 div.sk-parallel-item {display: flex;flex-direction: column;z-index: 1;position: relative;background-color: white;}#sk-container-id-3 div.sk-parallel-item:first-child::after {align-self: flex-end;width: 50%;}#sk-container-id-3 div.sk-parallel-item:last-child::after {align-self: flex-start;width: 50%;}#sk-container-id-3 div.sk-parallel-item:only-child::after {width: 0;}#sk-container-id-3 div.sk-dashed-wrapped {border: 1px dashed gray;margin: 0 0.4em 0.5em 0.4em;box-sizing: border-box;padding-bottom: 0.4em;background-color: white;}#sk-container-id-3 div.sk-label label {font-family: monospace;font-weight: bold;display: inline-block;line-height: 1.2em;}#sk-container-id-3 div.sk-label-container {text-align: center;}#sk-container-id-3 div.sk-container {/* jupyter's `normalize.less` sets `[hidden] { display: none; }` but bootstrap.min.css set `[hidden] { display: none !important; }` so we also need the `!important` here to be able to override the default hidden behavior on the sphinx rendered scikit-learn.org. See: https://github.com/scikit-learn/scikit-learn/issues/21755 */display: inline-block !important;position: relative;}#sk-container-id-3 div.sk-text-repr-fallback {display: none;}</style><div id=\"sk-container-id-3\" class=\"sk-top-container\"><div class=\"sk-text-repr-fallback\"><pre>GridSearchCV(cv=10, estimator=KNeighborsClassifier(),\n",
              "             param_grid={&#x27;n_neighbors&#x27;: [3, 5, 7, 9, 11],\n",
              "                         &#x27;weights&#x27;: [&#x27;uniform&#x27;, &#x27;distance&#x27;]},\n",
              "             scoring=&#x27;accuracy&#x27;)</pre><b>In a Jupyter environment, please rerun this cell to show the HTML representation or trust the notebook. <br />On GitHub, the HTML representation is unable to render, please try loading this page with nbviewer.org.</b></div><div class=\"sk-container\" hidden><div class=\"sk-item sk-dashed-wrapped\"><div class=\"sk-label-container\"><div class=\"sk-label sk-toggleable\"><input class=\"sk-toggleable__control sk-hidden--visually\" id=\"sk-estimator-id-7\" type=\"checkbox\" ><label for=\"sk-estimator-id-7\" class=\"sk-toggleable__label sk-toggleable__label-arrow\">GridSearchCV</label><div class=\"sk-toggleable__content\"><pre>GridSearchCV(cv=10, estimator=KNeighborsClassifier(),\n",
              "             param_grid={&#x27;n_neighbors&#x27;: [3, 5, 7, 9, 11],\n",
              "                         &#x27;weights&#x27;: [&#x27;uniform&#x27;, &#x27;distance&#x27;]},\n",
              "             scoring=&#x27;accuracy&#x27;)</pre></div></div></div><div class=\"sk-parallel\"><div class=\"sk-parallel-item\"><div class=\"sk-item\"><div class=\"sk-label-container\"><div class=\"sk-label sk-toggleable\"><input class=\"sk-toggleable__control sk-hidden--visually\" id=\"sk-estimator-id-8\" type=\"checkbox\" ><label for=\"sk-estimator-id-8\" class=\"sk-toggleable__label sk-toggleable__label-arrow\">estimator: KNeighborsClassifier</label><div class=\"sk-toggleable__content\"><pre>KNeighborsClassifier()</pre></div></div></div><div class=\"sk-serial\"><div class=\"sk-item\"><div class=\"sk-estimator sk-toggleable\"><input class=\"sk-toggleable__control sk-hidden--visually\" id=\"sk-estimator-id-9\" type=\"checkbox\" ><label for=\"sk-estimator-id-9\" class=\"sk-toggleable__label sk-toggleable__label-arrow\">KNeighborsClassifier</label><div class=\"sk-toggleable__content\"><pre>KNeighborsClassifier()</pre></div></div></div></div></div></div></div></div></div></div>"
            ]
          },
          "metadata": {},
          "execution_count": 229
        }
      ]
    },
    {
      "cell_type": "code",
      "source": [
        "print(gd.best_params_)"
      ],
      "metadata": {
        "colab": {
          "base_uri": "https://localhost:8080/"
        },
        "id": "dYQj4hsxdcAX",
        "outputId": "9a075a57-3e0c-4804-939c-19f669ad6aae"
      },
      "execution_count": null,
      "outputs": [
        {
          "output_type": "stream",
          "name": "stdout",
          "text": [
            "{'n_neighbors': 3, 'weights': 'distance'}\n"
          ]
        }
      ]
    },
    {
      "cell_type": "code",
      "source": [
        "k_model=KNeighborsClassifier(n_neighbors=3,weights='distance')\n",
        "k_model.fit(x_train,y_train)\n",
        "y_pred=k_model.predict(x_test)\n",
        "from sklearn.metrics import confusion_matrix,ConfusionMatrixDisplay\n",
        "mat=confusion_matrix(y_test,y_pred)\n",
        "print(mat)\n",
        "dis=ConfusionMatrixDisplay(mat,display_labels=['spam','ham'])\n",
        "dis.plot()\n",
        "print(classification_report(y_test,y_pred))"
      ],
      "metadata": {
        "colab": {
          "base_uri": "https://localhost:8080/",
          "height": 640
        },
        "id": "hon83gV2dg3K",
        "outputId": "d69c879b-e9c9-4044-f1f3-328acbb0fc59"
      },
      "execution_count": null,
      "outputs": [
        {
          "output_type": "stream",
          "name": "stdout",
          "text": [
            "[[1433    0]\n",
            " [   8 1454]]\n",
            "              precision    recall  f1-score   support\n",
            "\n",
            "           0       0.99      1.00      1.00      1433\n",
            "           1       1.00      0.99      1.00      1462\n",
            "\n",
            "    accuracy                           1.00      2895\n",
            "   macro avg       1.00      1.00      1.00      2895\n",
            "weighted avg       1.00      1.00      1.00      2895\n",
            "\n"
          ]
        },
        {
          "output_type": "display_data",
          "data": {
            "text/plain": [
              "<Figure size 640x480 with 2 Axes>"
            ],
            "image/png": "[encoded data removed]"
          },
          "metadata": {}
        }
      ]
    }
  ]
}